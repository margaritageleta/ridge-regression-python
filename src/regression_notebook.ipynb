{
 "cells": [
  {
   "cell_type": "code",
   "execution_count": 1,
   "metadata": {},
   "outputs": [],
   "source": [
    "import numpy as np\n",
    "from numpy import *"
   ]
  },
  {
   "cell_type": "code",
   "execution_count": 463,
   "metadata": {},
   "outputs": [],
   "source": [
    "# Explanation of data\n",
    "#\n",
    "#    The death rate is to be represented as a function of other variables.\n",
    "#\n",
    "#    There are 60 rows of data. Each point has 15 features:\n",
    "#\n",
    "#      A1,  the average annual precipitation;\n",
    "#      A2,  the average January temperature;\n",
    "#      A3,  the average July temperature;\n",
    "#      A4,  the size of the population older than 65;\n",
    "#      A5,  the number of members per household;\n",
    "#      A6,  the number of years of schooling for persons over 22;\n",
    "#      A7,  the number of households with fully equipped kitchens;\n",
    "#      A8,  the population per square mile; \n",
    "#      A9,  the size of the nonwhite population;\n",
    "#      A10, the number of office workers;\n",
    "#      A11, the number of families with an income less than $3000;\n",
    "#      A12, the hydrocarbon pollution index;\n",
    "#      A13, the nitric oxide pollution index;\n",
    "#      A14, the sulfur dioxide pollution index;\n",
    "#      A15, the degree of atmospheric moisture.\n",
    "#\n",
    "#    The output is:\n",
    "#      Y,   the death rate.\n",
    "#      A and y; last column is y"
   ]
  },
  {
   "cell_type": "code",
   "execution_count": 464,
   "metadata": {},
   "outputs": [],
   "source": [
    "import pandas as pd\n",
    "# Upload data.\n",
    "df = pd.DataFrame(pd.read_csv('deathrate_instance_python.dat', header=None, sep=\"\\s+\"))\n",
    "df.columns = ['A1', 'A2', 'A3', 'A4', 'A5', 'A6', 'A7', 'A8', 'A9', 'A10', 'A11', 'A12', 'A13', 'A14', 'A15', 'Y']"
   ]
  },
  {
   "cell_type": "code",
   "execution_count": 465,
   "metadata": {},
   "outputs": [],
   "source": [
    "# Define matrix X and vector Y.\n",
    "Y = df['Y']\n",
    "X = df.drop(columns=['Y'])"
   ]
  },
  {
   "cell_type": "code",
   "execution_count": 466,
   "metadata": {},
   "outputs": [],
   "source": [
    "# Add a column of ones.\n",
    "X = pd.concat([X, pd.DataFrame({'O': np.ones(len(X))})], axis=1) "
   ]
  },
  {
   "cell_type": "code",
   "execution_count": 467,
   "metadata": {},
   "outputs": [],
   "source": [
    "# Transform dataframe into matrix.\n",
    "Ymat = Y.values\n",
    "Xmat = X.values"
   ]
  },
  {
   "cell_type": "code",
   "execution_count": 468,
   "metadata": {},
   "outputs": [],
   "source": [
    "# Optimal values by AMPL.\n",
    "wopt = np.array([0.48824,-0.0463881,0.102978,-0.0377061,0.00490736,-0.0339172,-0.255786,0.00564845,0.649708,-0.12622,0.213407,-0.207831,0.109842,0.376641,0.00995978])\n",
    "gammaopt = 895.141\n",
    "# Define it as 1 vector (list):\n",
    "wopt = [0.48824,-0.0463881,0.102978,-0.0377061,0.00490736,-0.0339172,-0.255786,0.00564845,0.649708,-0.12622,0.213407,-0.207831,0.109842,0.376641,0.00995978,895.141]"
   ]
  },
  {
   "cell_type": "code",
   "execution_count": 469,
   "metadata": {},
   "outputs": [
    {
     "name": "stdout",
     "output_type": "stream",
     "text": [
      "\n"
     ]
    }
   ],
   "source": [
    "\"\"\"\n",
    "MINOS 5.51: optimal solution found.\n",
    "133 iterations, objective 61484.65464\n",
    "Nonlin evals: obj = 361, grad = 360, constrs = 361, Jac = 360.\n",
    "\n",
    "norm2_w = -10785.1\n",
    "gamma = 895.141\n",
    "\n",
    "w [*] :=\n",
    " 1   0.48824\n",
    " 2  -0.0463881\n",
    " 3   0.102978\n",
    " 4  -0.0377061\n",
    " 5   0.00490736\n",
    " 6  -0.0339172\n",
    " 7  -0.255786\n",
    " 8   0.00564845\n",
    " 9   0.649708\n",
    "10  -0.12622\n",
    "11   0.213407\n",
    "12  -0.207831\n",
    "13   0.109842\n",
    "14   0.376641\n",
    "15   0.00995978\n",
    "\n",
    "\"\"\"\n",
    "print()"
   ]
  },
  {
   "cell_type": "code",
   "execution_count": 470,
   "metadata": {},
   "outputs": [],
   "source": [
    "from scipy.optimize import minimize\n",
    "from scipy.optimize import LinearConstraint\n",
    "from scipy.optimize import Bounds\n",
    "from scipy.optimize import NonlinearConstraint"
   ]
  },
  {
   "cell_type": "code",
   "execution_count": 471,
   "metadata": {},
   "outputs": [],
   "source": [
    "# Loss func loss(x)\n",
    "def loss_func (x):\n",
    "    \"\"\"\n",
    "    Objective function: loss / cost function.\n",
    "    \n",
    "    Parameters\n",
    "    ----------\n",
    "    x array of weights and gamma.\n",
    "    \n",
    "    Returns\n",
    "    -------\n",
    "    The objective function loss(x) evaluated at x.\n",
    "    \n",
    "    \"\"\"\n",
    "    w = np.asarray(x).T\n",
    "    \n",
    "    cost = (1/2) * ((Xmat @ w) - Ymat).T @ ((Xmat @ w) - Ymat)\n",
    "  \n",
    "    return np.squeeze(cost)"
   ]
  },
  {
   "cell_type": "code",
   "execution_count": 472,
   "metadata": {},
   "outputs": [
    {
     "data": {
      "text/plain": [
       "61484.65071643571"
      ]
     },
     "execution_count": 472,
     "metadata": {},
     "output_type": "execute_result"
    }
   ],
   "source": [
    "loss_func(wopt)"
   ]
  },
  {
   "cell_type": "code",
   "execution_count": 473,
   "metadata": {},
   "outputs": [],
   "source": [
    "def loss_grad (x): \n",
    "    \"\"\"\n",
    "    Gradient of the objective function (loss / cost function).\n",
    "    \n",
    "    Parameters\n",
    "    ----------\n",
    "    x array of weights and gamma.\n",
    "    \n",
    "    Returns\n",
    "    -------\n",
    "    Array of the gradient of the objective function loss(x) \n",
    "    evaluated at x.\n",
    "    \n",
    "    \"\"\"\n",
    "    w = np.asarray(x).T\n",
    "    \n",
    "    return Xmat.T @ (Xmat @ w - Ymat)"
   ]
  },
  {
   "cell_type": "code",
   "execution_count": 474,
   "metadata": {},
   "outputs": [
    {
     "data": {
      "text/plain": [
       "array([-1.05322859e+04,  9.99806306e+02, -2.22295893e+03,  8.13127974e+02,\n",
       "       -1.05927484e+02,  7.31350810e+02,  5.51550115e+03, -2.10784096e+02,\n",
       "       -1.40146068e+04,  2.72154380e+03, -4.60357165e+03,  4.48211610e+03,\n",
       "       -2.36983501e+03, -8.12547179e+03, -2.16150552e+02, -2.28754456e-02])"
      ]
     },
     "execution_count": 474,
     "metadata": {},
     "output_type": "execute_result"
    }
   ],
   "source": [
    "loss_grad(wopt) # valor optim"
   ]
  },
  {
   "cell_type": "code",
   "execution_count": 475,
   "metadata": {},
   "outputs": [],
   "source": [
    "def loss_hess (x):\n",
    "    \"\"\"\n",
    "    Hessian matrix of the objective function (loss / cost function).\n",
    "    \n",
    "    Parameters\n",
    "    ----------\n",
    "    x array of weights and gamma.\n",
    "    \n",
    "    Returns\n",
    "    -------\n",
    "    Matrix of the Hessian of the objective function loss(x) \n",
    "    evaluated at x.\n",
    "    \n",
    "    \"\"\"\n",
    "    w = np.asarray(x).T\n",
    "    \n",
    "    return Xmat.T @ Xmat"
   ]
  },
  {
   "cell_type": "code",
   "execution_count": 476,
   "metadata": {},
   "outputs": [],
   "source": [
    "#loss_hess(wopt)"
   ]
  },
  {
   "cell_type": "code",
   "execution_count": 570,
   "metadata": {},
   "outputs": [],
   "source": [
    "def cons_func (x):\n",
    "    \"\"\"\n",
    "    Constraint.\n",
    "    \n",
    "    Parameters\n",
    "    ----------\n",
    "    x array of weights and gamma.\n",
    "    Gamma will be ignored (x[-1]).\n",
    "    \n",
    "    Returns\n",
    "    -------\n",
    "    The constraint evaluated at x.\n",
    "    \n",
    "    \"\"\"\n",
    "    \n",
    "    w = np.asarray(x).T\n",
    "    w = w[:-1]\n",
    "    return np.sum(w**2)"
   ]
  },
  {
   "cell_type": "code",
   "execution_count": 571,
   "metadata": {},
   "outputs": [
    {
     "data": {
      "text/plain": [
       "1.0000003642408806"
      ]
     },
     "execution_count": 571,
     "metadata": {},
     "output_type": "execute_result"
    }
   ],
   "source": [
    "cons_func(wopt)"
   ]
  },
  {
   "cell_type": "code",
   "execution_count": 588,
   "metadata": {},
   "outputs": [],
   "source": [
    "def cons_jacobian (x):\n",
    "    \"\"\"\n",
    "    Gradient of the constraint.\n",
    "    \n",
    "    Parameters\n",
    "    ----------\n",
    "    x array of weights and gamma.\n",
    "    Gamma will be ignored (x[-1]).\n",
    "    \n",
    "    Returns\n",
    "    -------\n",
    "    The gradient of the constraint evaluated at x.\n",
    "    \n",
    "    \"\"\"\n",
    "    \n",
    "    w = np.asarray(x).T\n",
    "    w = w[:-1]\n",
    "    w = np.append(w, 0)\n",
    "    u = (2*w).tolist()\n",
    "    return u"
   ]
  },
  {
   "cell_type": "code",
   "execution_count": 590,
   "metadata": {},
   "outputs": [
    {
     "data": {
      "text/plain": [
       "[0.97648,\n",
       " -0.0927762,\n",
       " 0.205956,\n",
       " -0.0754122,\n",
       " 0.00981472,\n",
       " -0.0678344,\n",
       " -0.511572,\n",
       " 0.0112969,\n",
       " 1.299416,\n",
       " -0.25244,\n",
       " 0.426814,\n",
       " -0.415662,\n",
       " 0.219684,\n",
       " 0.753282,\n",
       " 0.01991956,\n",
       " 0.0]"
      ]
     },
     "execution_count": 590,
     "metadata": {},
     "output_type": "execute_result"
    }
   ],
   "source": [
    "cons_jacobian(wopt)"
   ]
  },
  {
   "cell_type": "code",
   "execution_count": 603,
   "metadata": {},
   "outputs": [],
   "source": [
    "def cons_hess (x, w2):\n",
    "    \"\"\"\n",
    "    Product of the hessian of the constraint by an arbitrary vector.\n",
    "    It is needed for the minimize function.\n",
    "    \n",
    "    Parameters\n",
    "    ----------\n",
    "    x array of weights and gamma.\n",
    "    Gamma will be ignored (x[-1]).\n",
    "    v vector of length = number of constraints.\n",
    "    \n",
    "    Returns\n",
    "    -------\n",
    "    The Hessian of the constraint evaluated at x by v[0].\n",
    "    \n",
    "    \"\"\"\n",
    "    \n",
    "    #x[-1] = 0\n",
    "    w = np.asarray(x).T\n",
    "    #H = (np.eye(w.shape[0])*2)\n",
    "    #H[-1,-1] = 0\n",
    "    H = np.zeros((w.shape[0],w.shape[0]))\n",
    "    np.fill_diagonal(H,2)\n",
    "    H[-1,-1] = 0\n",
    "    return w2 * H\n",
    "    #return v * H"
   ]
  },
  {
   "cell_type": "code",
   "execution_count": 604,
   "metadata": {},
   "outputs": [],
   "source": [
    "# cons_hess (w, np.ones(16))"
   ]
  },
  {
   "cell_type": "code",
   "execution_count": 605,
   "metadata": {},
   "outputs": [
    {
     "name": "stdout",
     "output_type": "stream",
     "text": [
      "`xtol` termination condition is satisfied.\n",
      "Number of iterations: 144, function evaluations: 191, CG iterations: 794, optimality: 3.97e-05, constraint violation: 0.00e+00, execution time: 0.27 s.\n",
      " barrier_parameter: 2.048000000000001e-09\n",
      " barrier_tolerance: 2.048000000000001e-09\n",
      "          cg_niter: 794\n",
      "      cg_stop_cond: 4\n",
      "            constr: [array([1.])]\n",
      "       constr_nfev: [191]\n",
      "       constr_nhev: [91]\n",
      "       constr_njev: [86]\n",
      "    constr_penalty: 1.0\n",
      "  constr_violation: 0.0\n",
      "    execution_time: 0.2699158191680908\n",
      "               fun: 61484.65464046687\n",
      "              grad: array([-1.05314313e+04,  1.00060115e+03, -2.22125180e+03,  8.13329504e+02,\n",
      "       -1.05852785e+02,  7.31601887e+02,  5.51735331e+03, -1.21838297e+02,\n",
      "       -1.40143362e+04,  2.72259783e+03, -4.60324321e+03,  4.48296568e+03,\n",
      "       -2.36932573e+03, -8.12422725e+03, -2.14833708e+02,  1.38982657e-05])\n",
      "               jac: [array([[ 0.9764791 , -0.09277619,  0.20595548, -0.07541228,  0.00981472,\n",
      "        -0.06783446, -0.51157151,  0.0112969 ,  1.29941563, -0.25244051,\n",
      "         0.42681481, -0.41566262,  0.21968496,  0.75328205,  0.01991948,\n",
      "         0.        ]])]\n",
      "   lagrangian_grad: array([-7.95691449e-06, -7.13667055e-06,  2.56749299e-05, -3.02727517e-06,\n",
      "        2.19963935e-05,  1.20500522e-06, -3.96506430e-05, -2.06478006e-06,\n",
      "       -1.83694065e-05,  8.83560779e-06,  1.73796743e-05, -1.15212924e-05,\n",
      "       -4.01049829e-06, -5.80644701e-06,  1.72957752e-05,  1.38982657e-05])\n",
      "           message: '`xtol` termination condition is satisfied.'\n",
      "            method: 'tr_interior_point'\n",
      "              nfev: 191\n",
      "              nhev: 86\n",
      "               nit: 144\n",
      "             niter: 144\n",
      "              njev: 86\n",
      "        optimality: 3.965064297517529e-05\n",
      "            status: 2\n",
      "           success: True\n",
      "         tr_radius: 3.0038937028194658e-09\n",
      "                 v: [array([10785.1066819])]\n",
      "                 x: array([ 4.88239551e-01, -4.63880973e-02,  1.02977740e-01, -3.77061410e-02,\n",
      "        4.90736021e-03, -3.39172299e-02, -2.55785757e-01,  5.64845110e-03,\n",
      "        6.49707815e-01, -1.26220254e-01,  2.13407404e-01, -2.07831310e-01,\n",
      "        1.09842480e-01,  3.76641024e-01,  9.95974041e-03,  8.95141404e+02])\n"
     ]
    }
   ],
   "source": [
    "# Define hyperparamater t:\n",
    "t = 1\n",
    "\n",
    "## OPTIMIZATION ##\n",
    "# Assign initial random weights:\n",
    "w = np.squeeze(np.random.rand(1,16))\n",
    "w = np.ones(16)\n",
    "\n",
    "# Define non linear constraint:\n",
    "nonlinear_constraint = NonlinearConstraint(cons_func, -np.inf, t, jac = cons_jacobian, hess = cons_hess) \n",
    "# nonlinear_constraint = NonlinearConstraint(cons_func, -np.inf, t) \n",
    "\n",
    "# Solve:\n",
    "sol = minimize(loss_func, w, method='trust-constr', jac=loss_grad, hess=loss_hess,\n",
    "               constraints=[nonlinear_constraint], options={'verbose': 1})\n",
    "# Output:\n",
    "print(sol)"
   ]
  },
  {
   "cell_type": "code",
   "execution_count": 599,
   "metadata": {},
   "outputs": [
    {
     "name": "stdout",
     "output_type": "stream",
     "text": [
      "`xtol` termination condition is satisfied.\n",
      "Number of iterations: 662, function evaluations: 651, CG iterations: 9947, optimality: 2.11e-01, constraint violation: 0.00e+00, execution time:  3.4 s.\n"
     ]
    }
   ],
   "source": [
    "sol = minimize(loss_func, wopt, method='trust-constr', jac=loss_grad, hess=loss_hess,options={'verbose': 1})"
   ]
  },
  {
   "cell_type": "code",
   "execution_count": 600,
   "metadata": {},
   "outputs": [
    {
     "name": "stdout",
     "output_type": "stream",
     "text": [
      "         cg_niter: 9947\n",
      "     cg_stop_cond: 4\n",
      "           constr: []\n",
      "      constr_nfev: []\n",
      "      constr_nhev: []\n",
      "      constr_njev: []\n",
      "   constr_penalty: 1.0\n",
      " constr_violation: 0\n",
      "   execution_time: 3.4214839935302734\n",
      "              fun: 23000.394572189656\n",
      "             grad: array([ 0.01861397, -0.01730387,  0.02112825, -0.00488185,  0.0019099 ,\n",
      "        0.00047303, -0.01116767,  0.21065525,  0.01809868,  0.00265811,\n",
      "       -0.01319207,  0.00106848,  0.00710287,  0.00321044, -0.00560311,\n",
      "       -0.0122878 ])\n",
      "              jac: []\n",
      "  lagrangian_grad: array([ 0.01861397, -0.01730387,  0.02112825, -0.00488185,  0.0019099 ,\n",
      "        0.00047303, -0.01116767,  0.21065525,  0.01809868,  0.00265811,\n",
      "       -0.01319207,  0.00106848,  0.00710287,  0.00321044, -0.00560311,\n",
      "       -0.0122878 ])\n",
      "          message: '`xtol` termination condition is satisfied.'\n",
      "           method: 'equality_constrained_sqp'\n",
      "             nfev: 651\n",
      "             nhev: 650\n",
      "              nit: 662\n",
      "            niter: 662\n",
      "             njev: 650\n",
      "       optimality: 0.2106552543118596\n",
      "           status: 2\n",
      "          success: True\n",
      "        tr_radius: 3.152047973908936e-09\n",
      "                v: []\n",
      "                x: array([ 2.07148339e+00, -2.17706116e+00, -2.82871354e+00, -1.40185883e+01,\n",
      "       -1.15164030e+02, -2.42291098e+01, -1.14379219e+00,  1.00442592e-02,\n",
      "        3.53299209e+00,  5.23712947e-01,  2.69087485e-01, -8.88792768e-01,\n",
      "        1.86612358e+00, -3.44003894e-02,  5.35157706e-01,  1.86114040e+03])\n"
     ]
    }
   ],
   "source": [
    "print(sol)"
   ]
  },
  {
   "cell_type": "code",
   "execution_count": 611,
   "metadata": {},
   "outputs": [
    {
     "name": "stdout",
     "output_type": "stream",
     "text": [
      "[ 4.882000e-01 -4.640000e-02  1.030000e-01 -3.770000e-02  4.900000e-03\n",
      " -3.390000e-02 -2.558000e-01  5.600000e-03  6.497000e-01 -1.262000e-01\n",
      "  2.134000e-01 -2.078000e-01  1.098000e-01  3.766000e-01  1.000000e-02\n",
      "  8.951414e+02]\n"
     ]
    }
   ],
   "source": [
    "yo = np.round(array([ 4.88239551e-01, -4.63880973e-02,  1.02977740e-01, -3.77061410e-02,\n",
    "        4.90736021e-03, -3.39172299e-02, -2.55785757e-01,  5.64845110e-03,\n",
    "        6.49707815e-01, -1.26220254e-01,  2.13407404e-01, -2.07831310e-01,\n",
    "        1.09842480e-01,  3.76641024e-01,  9.95974041e-03,  8.95141404e+02]),4)\n",
    "print(yo)"
   ]
  },
  {
   "cell_type": "code",
   "execution_count": 629,
   "metadata": {},
   "outputs": [
    {
     "data": {
      "text/plain": [
       "895.141404"
      ]
     },
     "execution_count": 629,
     "metadata": {},
     "output_type": "execute_result"
    }
   ],
   "source": [
    "8.95141404e+02"
   ]
  },
  {
   "cell_type": "code",
   "execution_count": 630,
   "metadata": {},
   "outputs": [
    {
     "data": {
      "text/plain": [
       "0.21534461815763473"
      ]
     },
     "execution_count": 630,
     "metadata": {},
     "output_type": "execute_result"
    }
   ],
   "source": [
    "np.linalg.norm(array([ 0.01861397, -0.01730387,  0.02112825, -0.00488185,  0.0019099 ,\n",
    "        0.00047303, -0.01116767,  0.21065525,  0.01809868,  0.00265811,\n",
    "       -0.01319207,  0.00106848,  0.00710287,  0.00321044, -0.00560311,\n",
    "       -0.0122878 ]))"
   ]
  },
  {
   "cell_type": "code",
   "execution_count": 636,
   "metadata": {},
   "outputs": [
    {
     "name": "stdout",
     "output_type": "stream",
     "text": [
      "`xtol` termination condition is satisfied.\n",
      "Number of iterations: 437, function evaluations: 426, CG iterations: 6106, optimality: 8.34e-02, constraint violation: 0.00e+00, execution time:  2.3 s.\n",
      "         cg_niter: 6106\n",
      "     cg_stop_cond: 4\n",
      "           constr: []\n",
      "      constr_nfev: []\n",
      "      constr_nhev: []\n",
      "      constr_njev: []\n",
      "   constr_penalty: 1.0\n",
      " constr_violation: 0\n",
      "   execution_time: 2.34763503074646\n",
      "              fun: 23000.38378504645\n",
      "             grad: array([ 0.00508902,  0.000236  , -0.00427007, -0.02073108,  0.00183165,\n",
      "        0.00412808,  0.00030917,  0.08338374, -0.00225027,  0.01116387,\n",
      "       -0.00093402, -0.00107135,  0.00372709,  0.00236066,  0.00010012,\n",
      "       -0.00470158])\n",
      "              jac: []\n",
      "  lagrangian_grad: array([ 0.00508902,  0.000236  , -0.00427007, -0.02073108,  0.00183165,\n",
      "        0.00412808,  0.00030917,  0.08338374, -0.00225027,  0.01116387,\n",
      "       -0.00093402, -0.00107135,  0.00372709,  0.00236066,  0.00010012,\n",
      "       -0.00470158])\n",
      "          message: '`xtol` termination condition is satisfied.'\n",
      "           method: 'equality_constrained_sqp'\n",
      "             nfev: 426\n",
      "             nhev: 425\n",
      "              nit: 437\n",
      "            niter: 437\n",
      "             njev: 425\n",
      "       optimality: 0.0833837449317798\n",
      "           status: 2\n",
      "          success: True\n",
      "        tr_radius: 3.499966067021263e-09\n",
      "                v: []\n",
      "                x: array([ 2.07211884e+00, -2.17740576e+00, -2.83192146e+00, -1.40338963e+01,\n",
      "       -1.15329889e+02, -2.42401483e+01, -1.14517625e+00,  1.00428382e-02,\n",
      "        3.53300851e+00,  5.23275992e-01,  2.68007969e-01, -8.88934149e-01,\n",
      "        1.86632165e+00, -3.44450563e-02,  5.33898531e-01,  1.86239381e+03])\n"
     ]
    }
   ],
   "source": [
    "# Define hyperparamater t:\n",
    "t = 1\n",
    "\n",
    "## OPTIMIZATION ##\n",
    "# Assign initial random weights:\n",
    "w = np.squeeze(np.random.rand(1,16))\n",
    "w = np.ones(16)\n",
    "\n",
    "# Define non linear constraint:\n",
    "nonlinear_constraint = NonlinearConstraint(cons_func, -np.inf, t, jac = cons_jacobian, hess = cons_hess) \n",
    "# nonlinear_constraint = NonlinearConstraint(cons_func, -np.inf, t) \n",
    "\n",
    "# Solve:\n",
    "sol = minimize(loss_func, w, method='trust-constr', jac=loss_grad, hess=loss_hess, options={'verbose': 1})\n",
    "# Output:\n",
    "print(sol)"
   ]
  },
  {
   "cell_type": "code",
   "execution_count": 639,
   "metadata": {},
   "outputs": [
    {
     "data": {
      "text/plain": [
       "array([ 2.0721000e+00, -2.1774000e+00, -2.8319000e+00, -1.4033900e+01,\n",
       "       -1.1532990e+02, -2.4240100e+01, -1.1452000e+00,  1.0000000e-02,\n",
       "        3.5330000e+00,  5.2330000e-01,  2.6800000e-01, -8.8890000e-01,\n",
       "        1.8663000e+00, -3.4400000e-02,  5.3390000e-01,  1.8623938e+03])"
      ]
     },
     "execution_count": 639,
     "metadata": {},
     "output_type": "execute_result"
    }
   ],
   "source": [
    "np.round(array([ 2.07211884e+00, -2.17740576e+00, -2.83192146e+00, -1.40338963e+01,\n",
    "       -1.15329889e+02, -2.42401483e+01, -1.14517625e+00,  1.00428382e-02,\n",
    "        3.53300851e+00,  5.23275992e-01,  2.68007969e-01, -8.88934149e-01,\n",
    "        1.86632165e+00, -3.44450563e-02,  5.33898531e-01,  1.86239381e+03]),4)"
   ]
  },
  {
   "cell_type": "code",
   "execution_count": 645,
   "metadata": {},
   "outputs": [
    {
     "data": {
      "text/plain": [
       "1862.39381"
      ]
     },
     "execution_count": 645,
     "metadata": {},
     "output_type": "execute_result"
    }
   ],
   "source": [
    "1.86239381e+03"
   ]
  },
  {
   "cell_type": "code",
   "execution_count": 646,
   "metadata": {},
   "outputs": [
    {
     "data": {
      "text/plain": [
       "0.08729604430708358"
      ]
     },
     "execution_count": 646,
     "metadata": {},
     "output_type": "execute_result"
    }
   ],
   "source": [
    "np.linalg.norm(array([ 0.00508902,  0.000236  , -0.00427007, -0.02073108,  0.00183165,\n",
    "        0.00412808,  0.00030917,  0.08338374, -0.00225027,  0.01116387,\n",
    "       -0.00093402, -0.00107135,  0.00372709,  0.00236066,  0.00010012,\n",
    "       -0.00470158]))"
   ]
  },
  {
   "cell_type": "code",
   "execution_count": null,
   "metadata": {},
   "outputs": [],
   "source": []
  }
 ],
 "metadata": {
  "kernelspec": {
   "display_name": "Python 3",
   "language": "python",
   "name": "python3"
  },
  "language_info": {
   "codemirror_mode": {
    "name": "ipython",
    "version": 3
   },
   "file_extension": ".py",
   "mimetype": "text/x-python",
   "name": "python",
   "nbconvert_exporter": "python",
   "pygments_lexer": "ipython3",
   "version": "3.7.2"
  }
 },
 "nbformat": 4,
 "nbformat_minor": 2
}
