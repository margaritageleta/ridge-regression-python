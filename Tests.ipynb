{
 "cells": [
  {
   "cell_type": "code",
   "execution_count": 2,
   "metadata": {},
   "outputs": [],
   "source": [
    "import numpy as np\n",
    "from numpy import *"
   ]
  },
  {
   "cell_type": "code",
   "execution_count": 2,
   "metadata": {},
   "outputs": [
    {
     "data": {
      "text/plain": [
       "(array([[1. , 1.1],\n",
       "        [1.9, 2.2],\n",
       "        [2.9, 3. ]]), array([[1, 2, 3]]))"
      ]
     },
     "execution_count": 2,
     "metadata": {},
     "output_type": "execute_result"
    }
   ],
   "source": [
    "x0 = np.array([[1,1.1]])\n",
    "x1 = np.array([[1.9, 2.2]])\n",
    "x2 = np.array([[2.9, 3]])\n",
    "A = np.squeeze(np.array([x0,x1,x2]))\n",
    "y = np.array([[1,2,3]])\n",
    "A,y"
   ]
  },
  {
   "cell_type": "code",
   "execution_count": 27,
   "metadata": {},
   "outputs": [
    {
     "data": {
      "text/plain": [
       "'\\nmin loss(A, w, gamma, y)\\nsubject to ||w||^2 <= t\\n'"
      ]
     },
     "execution_count": 27,
     "metadata": {},
     "output_type": "execute_result"
    }
   ],
   "source": [
    "\"\"\"\n",
    "min loss(A, w, gamma, y)\n",
    "subject to ||w||^2 - t <= 0\n",
    "\"\"\""
   ]
  },
  {
   "cell_type": "code",
   "execution_count": 94,
   "metadata": {},
   "outputs": [],
   "source": [
    "# Loss func loss(x)\n",
    "def loss_func (x):\n",
    "    \"\"\"\n",
    "    Objective function: loss / cost function.\n",
    "    \n",
    "    Parameters\n",
    "    ----------\n",
    "    w array of weights.\n",
    "    gamma array of intercepts.\n",
    "    \n",
    "    Returns\n",
    "    -------\n",
    "    The objective function loss(x) evaluated at {w, gamma}.\n",
    "    \n",
    "    \"\"\"\n",
    "    w = x[0]\n",
    "    gamma = x[1]\n",
    "    cost = (1/2) * ((Xmat @ w.T) + gamma - Ymat).T @ ((Xmat @ w.T) + gamma - Ymat)\n",
    "    return np.squeeze(cost)"
   ]
  },
  {
   "cell_type": "code",
   "execution_count": 45,
   "metadata": {},
   "outputs": [],
   "source": [
    "def loss_grad (w, gamma): # ??\n",
    "    \"\"\"\n",
    "    Gradient of the objective function (loss / cost function).\n",
    "    \n",
    "    Parameters\n",
    "    ----------\n",
    "    A matrix with x arrays at the rows.\n",
    "    w array of weights.\n",
    "    gamma array of intercepts.\n",
    "    y array of f(x).\n",
    "    \n",
    "    Returns\n",
    "    -------\n",
    "    Array of the gradient of the objective function loss(x) \n",
    "    evaluated at {w, gamma}.\n",
    "    \n",
    "    \"\"\"\n",
    "    g_cost = -2* (y - w @ A.T + gamma.T) @ A\n",
    "    return np.squeeze(g_cost)"
   ]
  },
  {
   "cell_type": "code",
   "execution_count": 46,
   "metadata": {},
   "outputs": [],
   "source": [
    "def loss_hess (w, gamma):\n",
    "    \"\"\"\n",
    "    Hessian matrix of the objective function (loss / cost function).\n",
    "    \n",
    "    Parameters\n",
    "    ----------\n",
    "    w array of weights.\n",
    "    gamma array of intercepts.\n",
    "    \n",
    "    Returns\n",
    "    -------\n",
    "    Matrix of the Hessian of the objective function loss(x) \n",
    "    evaluated at {w, gamma}.\n",
    "    \n",
    "    \"\"\"\n",
    "    return A.T @ A"
   ]
  },
  {
   "cell_type": "code",
   "execution_count": 47,
   "metadata": {},
   "outputs": [],
   "source": [
    "def constraint_g (w, t):\n",
    "    \"\"\"\n",
    "    Inequality constraint g\n",
    "    \n",
    "    Parameters\n",
    "    ----------\n",
    "    w array of weights.\n",
    "    t value, regularization parameter.\n",
    "    \n",
    "    \"\"\"\n",
    "    return np.linalg.norm(w)**2 - t"
   ]
  },
  {
   "cell_type": "code",
   "execution_count": 48,
   "metadata": {},
   "outputs": [
    {
     "data": {
      "text/plain": [
       "(array(7.015), array([27.  , 29.06]), array([[13.02, 13.98],\n",
       "        [13.98, 15.05]]))"
      ]
     },
     "execution_count": 48,
     "metadata": {},
     "output_type": "execute_result"
    }
   ],
   "source": [
    "loss_func(w, gamma), loss_grad(w, gamma), loss_hess(w, gamma)"
   ]
  },
  {
   "cell_type": "code",
   "execution_count": 35,
   "metadata": {},
   "outputs": [
    {
     "data": {
      "text/plain": [
       "-0.9999999999999996"
      ]
     },
     "execution_count": 35,
     "metadata": {},
     "output_type": "execute_result"
    }
   ],
   "source": [
    "constraint_g(w, 3)"
   ]
  },
  {
   "cell_type": "code",
   "execution_count": 38,
   "metadata": {},
   "outputs": [],
   "source": [
    "from scipy.optimize import minimize\n",
    "from scipy.optimize import LinearConstraint\n",
    "from scipy.optimize import Bounds\n",
    "from scipy.optimize import NonlinearConstraint"
   ]
  },
  {
   "cell_type": "code",
   "execution_count": 29,
   "metadata": {},
   "outputs": [
    {
     "data": {
      "text/plain": [
       "5.0"
      ]
     },
     "execution_count": 29,
     "metadata": {},
     "output_type": "execute_result"
    }
   ],
   "source": [
    "nonlinear_constraint = NonlinearConstraint()"
   ]
  },
  {
   "cell_type": "code",
   "execution_count": 23,
   "metadata": {},
   "outputs": [],
   "source": [
    "# Explanation of data\n",
    "#\n",
    "#    The death rate is to be represented as a function of other variables.\n",
    "#\n",
    "#    There are 60 rows of data. Each point has 15 features:\n",
    "#\n",
    "#      A1,  the average annual precipitation;\n",
    "#      A2,  the average January temperature;\n",
    "#      A3,  the average July temperature;\n",
    "#      A4,  the size of the population older than 65;\n",
    "#      A5,  the number of members per household;\n",
    "#      A6,  the number of years of schooling for persons over 22;\n",
    "#      A7,  the number of households with fully equipped kitchens;\n",
    "#      A8,  the population per square mile; \n",
    "#      A9,  the size of the nonwhite population;\n",
    "#      A10, the number of office workers;\n",
    "#      A11, the number of families with an income less than $3000;\n",
    "#      A12, the hydrocarbon pollution index;\n",
    "#      A13, the nitric oxide pollution index;\n",
    "#      A14, the sulfur dioxide pollution index;\n",
    "#      A15, the degree of atmospheric moisture.\n",
    "#\n",
    "#    The output is:\n",
    "#      Y,   the death rate.\n",
    "# A and y; last column is y"
   ]
  },
  {
   "cell_type": "code",
   "execution_count": 35,
   "metadata": {},
   "outputs": [],
   "source": [
    "import pandas as pd\n",
    "df = pd.DataFrame(pd.read_csv('deathrate_instance_python.dat', header=None, sep=\"\\s+\"))\n",
    "df.columns = ['A1', 'A2', 'A3', 'A4', 'A5', 'A6', 'A7', 'A8', 'A9', 'A10', 'A11', 'A12', 'A13', 'A14', 'A15', 'Y']"
   ]
  },
  {
   "cell_type": "code",
   "execution_count": 45,
   "metadata": {},
   "outputs": [],
   "source": [
    "Y = df['Y']\n",
    "X = df.drop(columns=['Y'])"
   ]
  },
  {
   "cell_type": "code",
   "execution_count": 59,
   "metadata": {},
   "outputs": [],
   "source": [
    "Ymat = Y.values\n",
    "Xmat = X.values"
   ]
  },
  {
   "cell_type": "code",
   "execution_count": 107,
   "metadata": {},
   "outputs": [],
   "source": [
    "w = np.squeeze(np.random.rand(1,15)) # random weights\n",
    "gamma = 500"
   ]
  },
  {
   "cell_type": "code",
   "execution_count": 114,
   "metadata": {},
   "outputs": [
    {
     "data": {
      "text/plain": [
       "61484.650716435746"
      ]
     },
     "execution_count": 114,
     "metadata": {},
     "output_type": "execute_result"
    }
   ],
   "source": [
    "wopt = np.array([0.48824,-0.0463881,0.102978,-0.0377061,0.00490736,-0.0339172,-0.255786,0.00564845,0.649708,-0.12622,0.213407,-0.207831,0.109842,0.376641,0.00995978])\n",
    "gammaopt = 895.141\n",
    "loss_func(np.array([wopt, gammaopt])) # valor optim"
   ]
  },
  {
   "cell_type": "code",
   "execution_count": 98,
   "metadata": {},
   "outputs": [
    {
     "data": {
      "text/plain": [
       "1"
      ]
     },
     "execution_count": 98,
     "metadata": {},
     "output_type": "execute_result"
    }
   ],
   "source": [
    "\"\"\"\n",
    "MINOS 5.51: optimal solution found.\n",
    "133 iterations, objective 61484.65464\n",
    "Nonlin evals: obj = 361, grad = 360, constrs = 361, Jac = 360.\n",
    "\n",
    "norm2_w = -10785.1\n",
    "gamma = 895.141\n",
    "\n",
    "w [*] :=\n",
    " 1   0.48824\n",
    " 2  -0.0463881\n",
    " 3   0.102978\n",
    " 4  -0.0377061\n",
    " 5   0.00490736\n",
    " 6  -0.0339172\n",
    " 7  -0.255786\n",
    " 8   0.00564845\n",
    " 9   0.649708\n",
    "10  -0.12622\n",
    "11   0.213407\n",
    "12  -0.207831\n",
    "13   0.109842\n",
    "14   0.376641\n",
    "15   0.00995978\n",
    "\n",
    "\"\"\"\n",
    "1"
   ]
  },
  {
   "cell_type": "code",
   "execution_count": 120,
   "metadata": {},
   "outputs": [
    {
     "data": {
      "text/plain": [
       "array([[5.]])"
      ]
     },
     "execution_count": 120,
     "metadata": {},
     "output_type": "execute_result"
    }
   ],
   "source": [
    "np.ones((1,5)) @ np.ones((1,5)).T"
   ]
  },
  {
   "cell_type": "code",
   "execution_count": null,
   "metadata": {},
   "outputs": [],
   "source": []
  }
 ],
 "metadata": {
  "kernelspec": {
   "display_name": "Python 3",
   "language": "python",
   "name": "python3"
  },
  "language_info": {
   "codemirror_mode": {
    "name": "ipython",
    "version": 3
   },
   "file_extension": ".py",
   "mimetype": "text/x-python",
   "name": "python",
   "nbconvert_exporter": "python",
   "pygments_lexer": "ipython3",
   "version": "3.7.2"
  }
 },
 "nbformat": 4,
 "nbformat_minor": 2
}
