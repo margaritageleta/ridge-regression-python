{
 "cells": [
  {
   "cell_type": "code",
   "execution_count": 1,
   "metadata": {},
   "outputs": [],
   "source": [
    "import numpy as np\n",
    "from numpy import *"
   ]
  },
  {
   "cell_type": "code",
   "execution_count": 420,
   "metadata": {},
   "outputs": [],
   "source": [
    "# Explanation of data\n",
    "#\n",
    "#    The death rate is to be represented as a function of other variables.\n",
    "#\n",
    "#    There are 60 rows of data. Each point has 15 features:\n",
    "#\n",
    "#      A1,  the average annual precipitation;\n",
    "#      A2,  the average January temperature;\n",
    "#      A3,  the average July temperature;\n",
    "#      A4,  the size of the population older than 65;\n",
    "#      A5,  the number of members per household;\n",
    "#      A6,  the number of years of schooling for persons over 22;\n",
    "#      A7,  the number of households with fully equipped kitchens;\n",
    "#      A8,  the population per square mile; \n",
    "#      A9,  the size of the nonwhite population;\n",
    "#      A10, the number of office workers;\n",
    "#      A11, the number of families with an income less than $3000;\n",
    "#      A12, the hydrocarbon pollution index;\n",
    "#      A13, the nitric oxide pollution index;\n",
    "#      A14, the sulfur dioxide pollution index;\n",
    "#      A15, the degree of atmospheric moisture.\n",
    "#\n",
    "#    The output is:\n",
    "#      Y,   the death rate.\n",
    "#      A and y; last column is y"
   ]
  },
  {
   "cell_type": "code",
   "execution_count": 421,
   "metadata": {},
   "outputs": [],
   "source": [
    "import pandas as pd\n",
    "# Upload data.\n",
    "df = pd.DataFrame(pd.read_csv('deathrate_instance_python.dat', header=None, sep=\"\\s+\"))\n",
    "df.columns = ['A1', 'A2', 'A3', 'A4', 'A5', 'A6', 'A7', 'A8', 'A9', 'A10', 'A11', 'A12', 'A13', 'A14', 'A15', 'Y']"
   ]
  },
  {
   "cell_type": "code",
   "execution_count": 422,
   "metadata": {},
   "outputs": [],
   "source": [
    "# Define matrix X and vector Y.\n",
    "Y = df['Y']\n",
    "X = df.drop(columns=['Y'])"
   ]
  },
  {
   "cell_type": "code",
   "execution_count": 308,
   "metadata": {},
   "outputs": [],
   "source": [
    "# Add a column of ones.\n",
    "X = pd.concat([X, pd.DataFrame({'O': np.ones(len(X))})], axis=1) "
   ]
  },
  {
   "cell_type": "code",
   "execution_count": 309,
   "metadata": {},
   "outputs": [],
   "source": [
    "# Transform dataframe into matrix.\n",
    "Ymat = Y.values\n",
    "Xmat = X.values"
   ]
  },
  {
   "cell_type": "code",
   "execution_count": 423,
   "metadata": {},
   "outputs": [],
   "source": [
    "# Optimal values by AMPL.\n",
    "wopt = np.array([0.48824,-0.0463881,0.102978,-0.0377061,0.00490736,-0.0339172,-0.255786,0.00564845,0.649708,-0.12622,0.213407,-0.207831,0.109842,0.376641,0.00995978])\n",
    "gammaopt = 895.141\n",
    "# Define it as 1 vector (list):\n",
    "wopt = [0.48824,-0.0463881,0.102978,-0.0377061,0.00490736,-0.0339172,-0.255786,0.00564845,0.649708,-0.12622,0.213407,-0.207831,0.109842,0.376641,0.00995978,895.141]"
   ]
  },
  {
   "cell_type": "code",
   "execution_count": 428,
   "metadata": {},
   "outputs": [
    {
     "name": "stdout",
     "output_type": "stream",
     "text": [
      "\n"
     ]
    }
   ],
   "source": [
    "\"\"\"\n",
    "MINOS 5.51: optimal solution found.\n",
    "133 iterations, objective 61484.65464\n",
    "Nonlin evals: obj = 361, grad = 360, constrs = 361, Jac = 360.\n",
    "\n",
    "norm2_w = -10785.1\n",
    "gamma = 895.141\n",
    "\n",
    "w [*] :=\n",
    " 1   0.48824\n",
    " 2  -0.0463881\n",
    " 3   0.102978\n",
    " 4  -0.0377061\n",
    " 5   0.00490736\n",
    " 6  -0.0339172\n",
    " 7  -0.255786\n",
    " 8   0.00564845\n",
    " 9   0.649708\n",
    "10  -0.12622\n",
    "11   0.213407\n",
    "12  -0.207831\n",
    "13   0.109842\n",
    "14   0.376641\n",
    "15   0.00995978\n",
    "\n",
    "\"\"\"\n",
    "print()"
   ]
  },
  {
   "cell_type": "code",
   "execution_count": 438,
   "metadata": {},
   "outputs": [],
   "source": [
    "from scipy.optimize import minimize\n",
    "from scipy.optimize import LinearConstraint\n",
    "from scipy.optimize import Bounds\n",
    "from scipy.optimize import NonlinearConstraint"
   ]
  },
  {
   "cell_type": "code",
   "execution_count": 432,
   "metadata": {},
   "outputs": [],
   "source": [
    "# Loss func loss(x)\n",
    "def loss_func (x):\n",
    "    \"\"\"\n",
    "    Objective function: loss / cost function.\n",
    "    \n",
    "    Parameters\n",
    "    ----------\n",
    "    x array of weights and gamma.\n",
    "    \n",
    "    Returns\n",
    "    -------\n",
    "    The objective function loss(x) evaluated at x.\n",
    "    \n",
    "    \"\"\"\n",
    "    w = np.asarray(x).T\n",
    "    \n",
    "    cost = (1/2) * ((Xmat @ w) - Ymat).T @ ((Xmat @ w) - Ymat)\n",
    "  \n",
    "    return np.squeeze(cost)"
   ]
  },
  {
   "cell_type": "code",
   "execution_count": 431,
   "metadata": {},
   "outputs": [
    {
     "data": {
      "text/plain": [
       "61484.65071643571"
      ]
     },
     "execution_count": 431,
     "metadata": {},
     "output_type": "execute_result"
    }
   ],
   "source": [
    "loss_func(wopt)"
   ]
  },
  {
   "cell_type": "code",
   "execution_count": 435,
   "metadata": {},
   "outputs": [],
   "source": [
    "def loss_grad (x): \n",
    "    \"\"\"\n",
    "    Gradient of the objective function (loss / cost function).\n",
    "    \n",
    "    Parameters\n",
    "    ----------\n",
    "    x array of weights and gamma.\n",
    "    \n",
    "    Returns\n",
    "    -------\n",
    "    Array of the gradient of the objective function loss(x) \n",
    "    evaluated at x.\n",
    "    \n",
    "    \"\"\"\n",
    "    w = np.asarray(x).T\n",
    "    \n",
    "    return Xmat.T @ (Xmat @ w - Ymat)"
   ]
  },
  {
   "cell_type": "code",
   "execution_count": 436,
   "metadata": {},
   "outputs": [
    {
     "data": {
      "text/plain": [
       "array([-1.05322859e+04,  9.99806306e+02, -2.22295893e+03,  8.13127974e+02,\n",
       "       -1.05927484e+02,  7.31350810e+02,  5.51550115e+03, -2.10784096e+02,\n",
       "       -1.40146068e+04,  2.72154380e+03, -4.60357165e+03,  4.48211610e+03,\n",
       "       -2.36983501e+03, -8.12547179e+03, -2.16150552e+02, -2.28754456e-02])"
      ]
     },
     "execution_count": 436,
     "metadata": {},
     "output_type": "execute_result"
    }
   ],
   "source": [
    "loss_grad(wopt) # valor optim"
   ]
  },
  {
   "cell_type": "code",
   "execution_count": 437,
   "metadata": {},
   "outputs": [],
   "source": [
    "def loss_hess (x):\n",
    "    \"\"\"\n",
    "    Hessian matrix of the objective function (loss / cost function).\n",
    "    \n",
    "    Parameters\n",
    "    ----------\n",
    "    x array of weights and gamma.\n",
    "    \n",
    "    Returns\n",
    "    -------\n",
    "    Matrix of the Hessian of the objective function loss(x) \n",
    "    evaluated at x.\n",
    "    \n",
    "    \"\"\"\n",
    "    w = np.asarray(x).T\n",
    "    \n",
    "    return Xmat.T @ Xmat"
   ]
  },
  {
   "cell_type": "code",
   "execution_count": 407,
   "metadata": {},
   "outputs": [],
   "source": [
    "#loss_hess(wopt)"
   ]
  },
  {
   "cell_type": "code",
   "execution_count": 448,
   "metadata": {},
   "outputs": [],
   "source": [
    "def cons_func (x):\n",
    "    \"\"\"\n",
    "    Constraint.\n",
    "    \n",
    "    Parameters\n",
    "    ----------\n",
    "    x array of weights and gamma.\n",
    "    Gamma will be ignored (x[-1]).\n",
    "    \n",
    "    Returns\n",
    "    -------\n",
    "    The constraint evaluated at x.\n",
    "    \n",
    "    \"\"\"\n",
    "    \n",
    "    x[-1] = 0\n",
    "    w = np.asarray(x).T\n",
    "    return np.sum(w**2)"
   ]
  },
  {
   "cell_type": "code",
   "execution_count": 449,
   "metadata": {},
   "outputs": [
    {
     "data": {
      "text/plain": [
       "1.0000003642408803"
      ]
     },
     "execution_count": 449,
     "metadata": {},
     "output_type": "execute_result"
    }
   ],
   "source": [
    "cons_func(wopt)"
   ]
  },
  {
   "cell_type": "code",
   "execution_count": 451,
   "metadata": {},
   "outputs": [],
   "source": [
    "def cons_jacobian (x):\n",
    "    \"\"\"\n",
    "    Gradient of the constraint.\n",
    "    \n",
    "    Parameters\n",
    "    ----------\n",
    "    x array of weights and gamma.\n",
    "    Gamma will be ignored (x[-1]).\n",
    "    \n",
    "    Returns\n",
    "    -------\n",
    "    The gradient of the constraint evaluated at x.\n",
    "    \n",
    "    \"\"\"\n",
    "    \n",
    "    x[-1] = 0\n",
    "    w = np.asarray(x).T\n",
    "    return (2*w).tolist()"
   ]
  },
  {
   "cell_type": "code",
   "execution_count": 452,
   "metadata": {},
   "outputs": [],
   "source": [
    "#cons_jacobian(wopt)"
   ]
  },
  {
   "cell_type": "code",
   "execution_count": 455,
   "metadata": {},
   "outputs": [],
   "source": [
    "def cons_hess (x, v):\n",
    "    \"\"\"\n",
    "    Product of the hessian of the constraint by an arbitrary vector.\n",
    "    It is needed for the minimize function.\n",
    "    \n",
    "    Parameters\n",
    "    ----------\n",
    "    x array of weights and gamma.\n",
    "    Gamma will be ignored (x[-1]).\n",
    "    v vector of length = number of constraints.\n",
    "    \n",
    "    Returns\n",
    "    -------\n",
    "    The Hessian of the constraint evaluated at x by v[0].\n",
    "    \n",
    "    \"\"\"\n",
    "    \n",
    "    x[-1] = 0\n",
    "    w = np.asarray(x).T\n",
    "    H = (np.eye(w.shape[0])*2)\n",
    "    H[-1,-1] = 0\n",
    "    return v[0] * H"
   ]
  },
  {
   "cell_type": "code",
   "execution_count": 456,
   "metadata": {},
   "outputs": [],
   "source": [
    "#cons_hess (w, np.ones(16))"
   ]
  },
  {
   "cell_type": "code",
   "execution_count": 460,
   "metadata": {},
   "outputs": [
    {
     "name": "stdout",
     "output_type": "stream",
     "text": [
      "`xtol` termination condition is satisfied.\n",
      "Number of iterations: 291, function evaluations: 399, CG iterations: 710, optimality: 1.43e+08, constraint violation: 1.34e-09, execution time: 0.39 s.\n",
      " barrier_parameter: 2.048000000000001e-09\n",
      " barrier_tolerance: 2.048000000000001e-09\n",
      "          cg_niter: 710\n",
      "      cg_stop_cond: 2\n",
      "            constr: [array([1.33535664e-09])]\n",
      "       constr_nfev: [399]\n",
      "       constr_nhev: [113]\n",
      "       constr_njev: [112]\n",
      "    constr_penalty: 1.0\n",
      "  constr_violation: 1.3353566423295997e-09\n",
      "    execution_time: 0.38890790939331055\n",
      "               fun: 172931.85233161284\n",
      "              grad: array([-2.12676666e+06, -1.96168194e+06, -4.21354097e+06, -4.95432059e+05,\n",
      "       -1.84273797e+05, -6.17491954e+05, -4.55678992e+06, -2.20087356e+08,\n",
      "       -6.90927336e+05, -2.59447465e+06, -8.17161544e+05, -2.07551454e+06,\n",
      "       -1.25661070e+06, -3.13236449e+06, -3.24474690e+06, -5.64164813e+04])\n",
      "               jac: [array([[ 3.20680571e-06, -2.21396002e-05, -3.38094393e-06,\n",
      "        -1.79713542e-06,  1.01006728e-06, -8.62729228e-07,\n",
      "         4.67020059e-06,  4.32233551e-05,  2.95158053e-05,\n",
      "        -2.23836316e-07,  4.67926608e-06, -3.42787795e-06,\n",
      "         7.03620874e-06, -3.19245975e-05,  3.09987090e-05,\n",
      "         0.00000000e+00]])]\n",
      "   lagrangian_grad: array([ 3.58153315e+06, -4.13714520e+07, -1.02318169e+07, -3.69443715e+06,\n",
      "        1.61370444e+06, -2.15319993e+06,  3.75643750e+06, -1.43147282e+08,\n",
      "        5.18489148e+07, -2.99291626e+06,  7.51220298e+06, -8.17733574e+06,\n",
      "        1.12682482e+07, -5.99599963e+07,  5.19347497e+07, -5.64164813e+04])\n",
      "           message: '`xtol` termination condition is satisfied.'\n",
      "            method: 'tr_interior_point'\n",
      "              nfev: 399\n",
      "              nhev: 112\n",
      "               nit: 291\n",
      "             niter: 291\n",
      "              njev: 112\n",
      "        optimality: 143147281.55249935\n",
      "            status: 2\n",
      "           success: True\n",
      "         tr_radius: 1.7987839290833571e-09\n",
      "                 v: [array([1.78005789e+12])]\n",
      "                 x: array([ 1.60340285e-06, -1.10698001e-05, -1.69047196e-06, -8.98567711e-07,\n",
      "        5.05033639e-07, -4.31364614e-07,  2.33510029e-06,  2.16116775e-05,\n",
      "        1.47579026e-05, -1.11918158e-07,  2.33963304e-06, -1.71393897e-06,\n",
      "        3.51810437e-06, -1.59622988e-05,  1.54993545e-05,  0.00000000e+00])\n"
     ]
    }
   ],
   "source": [
    "# Define hyperparamater t:\n",
    "t = 0\n",
    "\n",
    "## OPTIMIZATION ##\n",
    "# Assign initial random weights:\n",
    "w = np.squeeze(np.random.rand(1,16))\n",
    "\n",
    "# Define non linear constraint:\n",
    "nonlinear_constraint = NonlinearConstraint(cons_f, -np.inf, t, jac = cons_jacobian, hess = cons_hess) \n",
    "\n",
    "# Solve:\n",
    "sol = minimize(loss_func, wopt, method='trust-constr', jac=loss_grad, hess=loss_hess,\n",
    "               constraints=[nonlinear_constraint], options={'verbose': 1})\n",
    "# Output:\n",
    "print(sol)"
   ]
  },
  {
   "cell_type": "code",
   "execution_count": 426,
   "metadata": {},
   "outputs": [
    {
     "data": {
      "text/plain": [
       "1"
      ]
     },
     "execution_count": 426,
     "metadata": {},
     "output_type": "execute_result"
    }
   ],
   "source": []
  },
  {
   "cell_type": "code",
   "execution_count": null,
   "metadata": {},
   "outputs": [],
   "source": []
  }
 ],
 "metadata": {
  "kernelspec": {
   "display_name": "Python 3",
   "language": "python",
   "name": "python3"
  },
  "language_info": {
   "codemirror_mode": {
    "name": "ipython",
    "version": 3
   },
   "file_extension": ".py",
   "mimetype": "text/x-python",
   "name": "python",
   "nbconvert_exporter": "python",
   "pygments_lexer": "ipython3",
   "version": "3.7.2"
  }
 },
 "nbformat": 4,
 "nbformat_minor": 2
}
