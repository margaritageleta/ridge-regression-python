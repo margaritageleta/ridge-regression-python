{
 "cells": [
  {
   "cell_type": "code",
   "execution_count": 1,
   "metadata": {},
   "outputs": [],
   "source": [
    "import numpy as np\n",
    "from numpy import *"
   ]
  },
  {
   "cell_type": "code",
   "execution_count": 2,
   "metadata": {},
   "outputs": [
    {
     "data": {
      "text/plain": [
       "(array([[1. , 1.1],\n",
       "        [1.9, 2.2],\n",
       "        [2.9, 3. ]]), array([[1, 2, 3]]))"
      ]
     },
     "execution_count": 2,
     "metadata": {},
     "output_type": "execute_result"
    }
   ],
   "source": [
    "x0 = np.array([[1,1.1]])\n",
    "x1 = np.array([[1.9, 2.2]])\n",
    "x2 = np.array([[2.9, 3]])\n",
    "A = np.squeeze(np.array([x0,x1,x2]))\n",
    "y = np.array([[1,2,3]])\n",
    "A,y"
   ]
  },
  {
   "cell_type": "code",
   "execution_count": 9,
   "metadata": {},
   "outputs": [
    {
     "data": {
      "text/plain": [
       "'\\nmin loss(A, w, gamma, y)\\nsubject to ||w||^2 - t <= 0\\n'"
      ]
     },
     "execution_count": 9,
     "metadata": {},
     "output_type": "execute_result"
    }
   ],
   "source": [
    "\"\"\"\n",
    "min loss(A, w, gamma, y)\n",
    "subject to ||w||^2 - t <= 0\n",
    "\"\"\""
   ]
  },
  {
   "cell_type": "code",
   "execution_count": 14,
   "metadata": {},
   "outputs": [],
   "source": [
    "def constraint_g (w, t):\n",
    "    \"\"\"\n",
    "    Inequality constraint g\n",
    "    \n",
    "    Parameters\n",
    "    ----------\n",
    "    w array of weights.\n",
    "    t value, regularization parameter.\n",
    "    \n",
    "    \"\"\"\n",
    "    return np.linalg.norm(w)**2 - t"
   ]
  },
  {
   "cell_type": "code",
   "execution_count": 16,
   "metadata": {},
   "outputs": [
    {
     "data": {
      "text/plain": [
       "1.7246112077518285"
      ]
     },
     "execution_count": 16,
     "metadata": {},
     "output_type": "execute_result"
    }
   ],
   "source": [
    "constraint_g(w, 3)"
   ]
  },
  {
   "cell_type": "code",
   "execution_count": 17,
   "metadata": {},
   "outputs": [],
   "source": [
    "from scipy.optimize import minimize\n",
    "from scipy.optimize import LinearConstraint\n",
    "from scipy.optimize import Bounds\n",
    "from scipy.optimize import NonlinearConstraint"
   ]
  },
  {
   "cell_type": "code",
   "execution_count": 18,
   "metadata": {},
   "outputs": [
    {
     "ename": "TypeError",
     "evalue": "__init__() missing 3 required positional arguments: 'fun', 'lb', and 'ub'",
     "output_type": "error",
     "traceback": [
      "\u001b[0;31m----------------------------------------------------------------------\u001b[0m",
      "\u001b[0;31mTypeError\u001b[0m                            Traceback (most recent call last)",
      "\u001b[0;32m<ipython-input-18-768fb9f52af7>\u001b[0m in \u001b[0;36m<module>\u001b[0;34m\u001b[0m\n\u001b[0;32m----> 1\u001b[0;31m \u001b[0mnonlinear_constraint\u001b[0m \u001b[0;34m=\u001b[0m \u001b[0mNonlinearConstraint\u001b[0m\u001b[0;34m(\u001b[0m\u001b[0;34m)\u001b[0m\u001b[0;34m\u001b[0m\u001b[0;34m\u001b[0m\u001b[0m\n\u001b[0m",
      "\u001b[0;31mTypeError\u001b[0m: __init__() missing 3 required positional arguments: 'fun', 'lb', and 'ub'"
     ]
    }
   ],
   "source": [
    "nonlinear_constraint = NonlinearConstraint()"
   ]
  },
  {
   "cell_type": "code",
   "execution_count": null,
   "metadata": {},
   "outputs": [],
   "source": [
    "# Explanation of data\n",
    "#\n",
    "#    The death rate is to be represented as a function of other variables.\n",
    "#\n",
    "#    There are 60 rows of data. Each point has 15 features:\n",
    "#\n",
    "#      A1,  the average annual precipitation;\n",
    "#      A2,  the average January temperature;\n",
    "#      A3,  the average July temperature;\n",
    "#      A4,  the size of the population older than 65;\n",
    "#      A5,  the number of members per household;\n",
    "#      A6,  the number of years of schooling for persons over 22;\n",
    "#      A7,  the number of households with fully equipped kitchens;\n",
    "#      A8,  the population per square mile; \n",
    "#      A9,  the size of the nonwhite population;\n",
    "#      A10, the number of office workers;\n",
    "#      A11, the number of families with an income less than $3000;\n",
    "#      A12, the hydrocarbon pollution index;\n",
    "#      A13, the nitric oxide pollution index;\n",
    "#      A14, the sulfur dioxide pollution index;\n",
    "#      A15, the degree of atmospheric moisture.\n",
    "#\n",
    "#    The output is:\n",
    "#      Y,   the death rate.\n",
    "# A and y; last column is y"
   ]
  },
  {
   "cell_type": "code",
   "execution_count": 19,
   "metadata": {},
   "outputs": [],
   "source": [
    "import pandas as pd\n",
    "df = pd.DataFrame(pd.read_csv('deathrate_instance_python.dat', header=None, sep=\"\\s+\"))\n",
    "df.columns = ['A1', 'A2', 'A3', 'A4', 'A5', 'A6', 'A7', 'A8', 'A9', 'A10', 'A11', 'A12', 'A13', 'A14', 'A15', 'Y']"
   ]
  },
  {
   "cell_type": "code",
   "execution_count": 20,
   "metadata": {},
   "outputs": [],
   "source": [
    "Y = df['Y']\n",
    "X = df.drop(columns=['Y'])"
   ]
  },
  {
   "cell_type": "code",
   "execution_count": 21,
   "metadata": {},
   "outputs": [],
   "source": [
    "Ymat = Y.values\n",
    "Xmat = X.values"
   ]
  },
  {
   "cell_type": "code",
   "execution_count": 22,
   "metadata": {},
   "outputs": [],
   "source": [
    "w = np.squeeze(np.random.rand(1,15)) # random weights\n",
    "gamma = 500"
   ]
  },
  {
   "cell_type": "code",
   "execution_count": 23,
   "metadata": {},
   "outputs": [
    {
     "data": {
      "text/plain": [
       "61484.650716435746"
      ]
     },
     "execution_count": 23,
     "metadata": {},
     "output_type": "execute_result"
    }
   ],
   "source": [
    "wopt = np.array([0.48824,-0.0463881,0.102978,-0.0377061,0.00490736,-0.0339172,-0.255786,0.00564845,0.649708,-0.12622,0.213407,-0.207831,0.109842,0.376641,0.00995978])\n",
    "gammaopt = 895.141\n",
    "loss_func(np.array([wopt, gammaopt])) # valor optim"
   ]
  },
  {
   "cell_type": "code",
   "execution_count": 24,
   "metadata": {},
   "outputs": [
    {
     "data": {
      "text/plain": [
       "1"
      ]
     },
     "execution_count": 24,
     "metadata": {},
     "output_type": "execute_result"
    }
   ],
   "source": [
    "\"\"\"\n",
    "MINOS 5.51: optimal solution found.\n",
    "133 iterations, objective 61484.65464\n",
    "Nonlin evals: obj = 361, grad = 360, constrs = 361, Jac = 360.\n",
    "\n",
    "norm2_w = -10785.1\n",
    "gamma = 895.141\n",
    "\n",
    "w [*] :=\n",
    " 1   0.48824\n",
    " 2  -0.0463881\n",
    " 3   0.102978\n",
    " 4  -0.0377061\n",
    " 5   0.00490736\n",
    " 6  -0.0339172\n",
    " 7  -0.255786\n",
    " 8   0.00564845\n",
    " 9   0.649708\n",
    "10  -0.12622\n",
    "11   0.213407\n",
    "12  -0.207831\n",
    "13   0.109842\n",
    "14   0.376641\n",
    "15   0.00995978\n",
    "\n",
    "\"\"\"\n",
    "1"
   ]
  },
  {
   "cell_type": "code",
   "execution_count": 25,
   "metadata": {},
   "outputs": [
    {
     "data": {
      "text/plain": [
       "array([[5.]])"
      ]
     },
     "execution_count": 25,
     "metadata": {},
     "output_type": "execute_result"
    }
   ],
   "source": [
    "np.ones((1,5)) @ np.ones((1,5)).T"
   ]
  },
  {
   "cell_type": "code",
   "execution_count": 27,
   "metadata": {},
   "outputs": [
    {
     "name": "stdout",
     "output_type": "stream",
     "text": [
      "`gtol` termination condition is satisfied.\n",
      "Number of iterations: 23, function evaluations: 21, CG iterations: 19, optimality: 1.92e-09, constraint violation: 0.00e+00, execution time: 0.063 s.\n"
     ]
    }
   ],
   "source": [
    "import numpy as np\n",
    "from scipy.optimize import minimize\n",
    "from scipy.optimize import LinearConstraint\n",
    "from scipy.optimize import Bounds\n",
    "\n",
    "# rosenbrock function and first and second derivatives already available from scipy\n",
    "from scipy.optimize import rosen\n",
    "from scipy.optimize import rosen_der\n",
    "from scipy.optimize import rosen_hess\n",
    "\n",
    "linear_constraint = LinearConstraint([[1, 2], [2, 1]], [-np.inf, 1], [0.7, 1])\n",
    "bounds = Bounds([0.0, -1.0], [1.0, 2.0])\n",
    "x0=[-2,-10]\n",
    "sol = minimize(rosen, x0, method='trust-constr', jac=rosen_der, hess= rosen_hess,\n",
    "               constraints=linear_constraint, options={'verbose': 1},bounds=bounds)\n",
    "#print(sol)"
   ]
  },
  {
   "cell_type": "code",
   "execution_count": 43,
   "metadata": {},
   "outputs": [
    {
     "data": {
      "text/plain": [
       "array([[1202,  400],\n",
       "       [ 400,  200]])"
      ]
     },
     "execution_count": 43,
     "metadata": {},
     "output_type": "execute_result"
    }
   ],
   "source": [
    "rosen_hess([-1,0])"
   ]
  },
  {
   "cell_type": "code",
   "execution_count": 180,
   "metadata": {},
   "outputs": [],
   "source": [
    "# Loss func loss(x)\n",
    "def loss_func (x):\n",
    "    \"\"\"\n",
    "    Objective function: loss / cost function.\n",
    "    \n",
    "    Parameters\n",
    "    ----------\n",
    "    w array of weights.\n",
    "    gamma array of intercepts.\n",
    "    \n",
    "    Returns\n",
    "    -------\n",
    "    The objective function loss(x) evaluated at {w, gamma}.\n",
    "    \n",
    "    \"\"\"\n",
    "    w = np.asarray(x[:-1]).T\n",
    "    gamma = x[-1]\n",
    "    \n",
    "    cost = (1/2) * ((Xmat @ w) + gamma - Ymat).T @ ((Xmat @ w) + gamma - Ymat)\n",
    "  \n",
    "    return np.squeeze(cost)"
   ]
  },
  {
   "cell_type": "code",
   "execution_count": 189,
   "metadata": {},
   "outputs": [
    {
     "data": {
      "text/plain": [
       "61484.650716435746"
      ]
     },
     "execution_count": 189,
     "metadata": {},
     "output_type": "execute_result"
    }
   ],
   "source": [
    "wopt = [0.48824,-0.0463881,0.102978,-0.0377061,0.00490736,-0.0339172,-0.255786,0.00564845,0.649708,-0.12622,0.213407,-0.207831,0.109842,0.376641,0.00995978,895.141]\n",
    "loss_func2(wopt) # valor optim"
   ]
  },
  {
   "cell_type": "code",
   "execution_count": 182,
   "metadata": {},
   "outputs": [],
   "source": [
    "def loss_grad (x): \n",
    "    \"\"\"\n",
    "    Gradient of the objective function (loss / cost function).\n",
    "    \n",
    "    Parameters\n",
    "    ----------\n",
    "    A matrix with x arrays at the rows.\n",
    "    w array of weights.\n",
    "    gamma array of intercepts.\n",
    "    y array of f(x).\n",
    "    \n",
    "    Returns\n",
    "    -------\n",
    "    Array of the gradient of the objective function loss(x) \n",
    "    evaluated at {w, gamma}.\n",
    "    \n",
    "    \"\"\"\n",
    "    w = np.asarray(x[:-1]).T\n",
    "    gamma = x[-1]\n",
    "    \n",
    "    g_cost_comp1 = Xmat.T @ ((Xmat @ w) + gamma - Ymat)\n",
    "    g_cost_comp2 = np.ones(len(Ymat)).T @ ((Xmat @ w) + gamma - Ymat)\n",
    "    \n",
    "    return np.concatenate((g_cost_comp1, g_cost_comp2), axis=None)"
   ]
  },
  {
   "cell_type": "code",
   "execution_count": 184,
   "metadata": {},
   "outputs": [
    {
     "data": {
      "text/plain": [
       "array([-1.05322859e+04,  9.99806306e+02, -2.22295893e+03,  8.13127974e+02,\n",
       "       -1.05927484e+02,  7.31350810e+02,  5.51550115e+03, -2.10784096e+02,\n",
       "       -1.40146068e+04,  2.72154380e+03, -4.60357165e+03,  4.48211610e+03,\n",
       "       -2.36983501e+03, -8.12547179e+03, -2.16150552e+02, -2.28754456e-02])"
      ]
     },
     "execution_count": 184,
     "metadata": {},
     "output_type": "execute_result"
    }
   ],
   "source": [
    "loss_grad(wopt) # valor optim"
   ]
  },
  {
   "cell_type": "code",
   "execution_count": 185,
   "metadata": {},
   "outputs": [],
   "source": [
    "def loss_hess (x):\n",
    "    \"\"\"\n",
    "    Hessian matrix of the objective function (loss / cost function).\n",
    "    \n",
    "    Parameters\n",
    "    ----------\n",
    "    w array of weights.\n",
    "    gamma array of intercepts.\n",
    "    \n",
    "    Returns\n",
    "    -------\n",
    "    Matrix of the Hessian of the objective function loss(x) \n",
    "    evaluated at {w, gamma}.\n",
    "    \n",
    "    \"\"\"\n",
    "    w = np.asarray(x[:-1]).T\n",
    "    gamma = x[-1]\n",
    "    \n",
    "    block_top_left = Xmat.T @ Xmat\n",
    "    block_top_right = Xmat.T @ np.ones(len(Ymat))\n",
    "    \n",
    "    block_bottom_left = np.ones(len(Ymat)).T @ Xmat\n",
    "    block_bottom_right = len(Ymat)\n",
    "    \n",
    "    H[:-1,:-1] = block_top_left\n",
    "    H[:-1,-1] = block_top_right\n",
    "    \n",
    "    H[-1,:-1] = block_bottom_left\n",
    "    H[-1,-1] = block_bottom_right\n",
    "    \n",
    "    return H"
   ]
  },
  {
   "cell_type": "code",
   "execution_count": 186,
   "metadata": {},
   "outputs": [],
   "source": [
    "#loss_hess2(wopt)"
   ]
  },
  {
   "cell_type": "code",
   "execution_count": 187,
   "metadata": {},
   "outputs": [],
   "source": [
    "from scipy.optimize import minimize\n",
    "from scipy.optimize import LinearConstraint\n",
    "from scipy.optimize import Bounds"
   ]
  },
  {
   "cell_type": "code",
   "execution_count": 199,
   "metadata": {},
   "outputs": [],
   "source": [
    "t = 1\n",
    "linear_constraint = LinearConstraint([(np.asarray(wopt[:-1])**2).tolist()], [-np.inf],[t])"
   ]
  },
  {
   "cell_type": "code",
   "execution_count": 222,
   "metadata": {},
   "outputs": [],
   "source": [
    "linear_constraint = LinearConstraint([(np.concatenate((np.asarray(w[:-1])**2,0),axis=None)).tolist()], [-np.inf],[t])"
   ]
  },
  {
   "cell_type": "code",
   "execution_count": 223,
   "metadata": {},
   "outputs": [
    {
     "name": "stdout",
     "output_type": "stream",
     "text": [
      "`xtol` termination condition is satisfied.\n",
      "Number of iterations: 896, function evaluations: 857, CG iterations: 10289, optimality: 1.71e-03, constraint violation: 0.00e+00, execution time:  2.6 s.\n"
     ]
    }
   ],
   "source": [
    "w = np.squeeze(np.random.rand(1,16))\n",
    "sol = minimize(loss_func, w, method='trust-constr', jac=loss_grad, hess= loss_hess,\n",
    "               constraints=linear_constraint, options={'verbose': 1})"
   ]
  },
  {
   "cell_type": "code",
   "execution_count": 224,
   "metadata": {},
   "outputs": [
    {
     "name": "stdout",
     "output_type": "stream",
     "text": [
      " barrier_parameter: 2.048000000000001e-09\n",
      " barrier_tolerance: 2.048000000000001e-09\n",
      "          cg_niter: 10289\n",
      "      cg_stop_cond: 4\n",
      "            constr: [array([-106.25640148])]\n",
      "       constr_nfev: [0]\n",
      "       constr_nhev: [0]\n",
      "       constr_njev: [0]\n",
      "    constr_penalty: 1.0\n",
      "  constr_violation: 0.0\n",
      "    execution_time: 2.5719587802886963\n",
      "               fun: 23000.38197136021\n",
      "              grad: array([-3.37151068e-05,  6.08376176e-05,  6.30990144e-05,  1.02060917e-04,\n",
      "        1.73503727e-05,  9.68191671e-07, -1.84450109e-05, -1.71221572e-03,\n",
      "       -2.45908774e-04,  6.29174556e-05,  2.79021679e-04, -6.61377344e-05,\n",
      "        1.18099279e-04, -9.09342771e-05, -1.89807246e-04, -1.22014443e-04])\n",
      "               jac: [array([[8.26843411e-02, 3.68413955e-01, 1.14341507e-03, 6.68055476e-01,\n",
      "        7.65973412e-01, 3.64650612e-01, 3.13548559e-01, 4.51679862e-01,\n",
      "        3.88623300e-01, 1.05185349e-04, 1.41181711e-01, 3.16516166e-01,\n",
      "        2.07431524e-02, 8.58674397e-01, 4.35415218e-01, 0.00000000e+00]])]\n",
      "   lagrangian_grad: array([-3.37085446e-05,  6.08668568e-05,  6.30991051e-05,  1.02113937e-04,\n",
      "        1.74111641e-05,  9.97132126e-07, -1.84201262e-05, -1.71217987e-03,\n",
      "       -2.45877931e-04,  6.29174639e-05,  2.79032883e-04, -6.61126141e-05,\n",
      "        1.18100926e-04, -9.08661285e-05, -1.89772689e-04, -1.22014443e-04])\n",
      "           message: '`xtol` termination condition is satisfied.'\n",
      "            method: 'tr_interior_point'\n",
      "              nfev: 857\n",
      "              nhev: 813\n",
      "               nit: 896\n",
      "             niter: 896\n",
      "              njev: 813\n",
      "        optimality: 0.0017121798675658053\n",
      "            status: 2\n",
      "           success: True\n",
      "         tr_radius: 1.0000000000000005e-09\n",
      "                 v: [array([7.93648892e-08])]\n",
      "                 x: array([ 2.07238932e+00, -2.17756023e+00, -2.83372831e+00, -1.40418513e+01,\n",
      "       -1.15429356e+02, -2.42469012e+01, -1.14600593e+00,  1.00416447e-02,\n",
      "        3.53323080e+00,  5.22937681e-01,  2.67089683e-01, -8.89008787e-01,\n",
      "        1.86640971e+00, -3.44713063e-02,  5.33129537e-01,  1.86313702e+03])\n"
     ]
    }
   ],
   "source": [
    "print(sol)"
   ]
  },
  {
   "cell_type": "code",
   "execution_count": 225,
   "metadata": {},
   "outputs": [
    {
     "data": {
      "text/plain": [
       "array([-1.05322859e+04,  9.99806306e+02, -2.22295893e+03,  8.13127974e+02,\n",
       "       -1.05927484e+02,  7.31350810e+02,  5.51550115e+03, -2.10784096e+02,\n",
       "       -1.40146068e+04,  2.72154380e+03, -4.60357165e+03,  4.48211610e+03,\n",
       "       -2.36983501e+03, -8.12547179e+03, -2.16150552e+02, -2.28754456e-02])"
      ]
     },
     "execution_count": 225,
     "metadata": {},
     "output_type": "execute_result"
    }
   ],
   "source": [
    "loss_grad(wopt)"
   ]
  },
  {
   "cell_type": "code",
   "execution_count": null,
   "metadata": {},
   "outputs": [],
   "source": []
  }
 ],
 "metadata": {
  "kernelspec": {
   "display_name": "Python 3",
   "language": "python",
   "name": "python3"
  },
  "language_info": {
   "codemirror_mode": {
    "name": "ipython",
    "version": 3
   },
   "file_extension": ".py",
   "mimetype": "text/x-python",
   "name": "python",
   "nbconvert_exporter": "python",
   "pygments_lexer": "ipython3",
   "version": "3.7.2"
  }
 },
 "nbformat": 4,
 "nbformat_minor": 2
}
