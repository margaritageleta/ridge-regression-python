{
 "cells": [
  {
   "cell_type": "code",
   "execution_count": 1,
   "metadata": {},
   "outputs": [],
   "source": [
    "import numpy as np\n",
    "from numpy import *"
   ]
  },
  {
   "cell_type": "code",
   "execution_count": 2,
   "metadata": {},
   "outputs": [
    {
     "data": {
      "text/plain": [
       "(array([[1. , 1.1],\n",
       "        [1.9, 2.2],\n",
       "        [2.9, 3. ]]), array([[1, 2, 3]]))"
      ]
     },
     "execution_count": 2,
     "metadata": {},
     "output_type": "execute_result"
    }
   ],
   "source": [
    "x0 = np.array([[1,1.1]])\n",
    "x1 = np.array([[1.9, 2.2]])\n",
    "x2 = np.array([[2.9, 3]])\n",
    "A = np.squeeze(np.array([x0,x1,x2]))\n",
    "y = np.array([[1,2,3]])\n",
    "A,y"
   ]
  },
  {
   "cell_type": "code",
   "execution_count": 27,
   "metadata": {},
   "outputs": [
    {
     "data": {
      "text/plain": [
       "'\\nmin loss(A, w, gamma, y)\\nsubject to ||w||^2 <= t\\n'"
      ]
     },
     "execution_count": 27,
     "metadata": {},
     "output_type": "execute_result"
    }
   ],
   "source": [
    "\"\"\"\n",
    "min loss(A, w, gamma, y)\n",
    "subject to ||w||^2 - t <= 0\n",
    "\"\"\""
   ]
  },
  {
   "cell_type": "code",
   "execution_count": 39,
   "metadata": {},
   "outputs": [],
   "source": [
    "# Loss func loss(x)\n",
    "def loss_func (w, gamma):\n",
    "    \"\"\"\n",
    "    Objective function: loss / cost function.\n",
    "    \n",
    "    Parameters\n",
    "    ----------\n",
    "    w array of weights.\n",
    "    gamma array of intercepts.\n",
    "    \n",
    "    Returns\n",
    "    -------\n",
    "    The objective function loss(x) evaluated at {w, gamma}.\n",
    "    \n",
    "    \"\"\"\n",
    "    cost = (1/2)*(w @ A.T + gamma.T - y) @ (w @ A.T + gamma.T - y).T\n",
    "    return np.squeeze(cost)"
   ]
  },
  {
   "cell_type": "code",
   "execution_count": 45,
   "metadata": {},
   "outputs": [],
   "source": [
    "def loss_grad (w, gamma): # ??\n",
    "    \"\"\"\n",
    "    Gradient of the objective function (loss / cost function).\n",
    "    \n",
    "    Parameters\n",
    "    ----------\n",
    "    A matrix with x arrays at the rows.\n",
    "    w array of weights.\n",
    "    gamma array of intercepts.\n",
    "    y array of f(x).\n",
    "    \n",
    "    Returns\n",
    "    -------\n",
    "    Array of the gradient of the objective function loss(x) \n",
    "    evaluated at {w, gamma}.\n",
    "    \n",
    "    \"\"\"\n",
    "    g_cost = -2* (y - w @ A.T + gamma.T) @ A\n",
    "    return np.squeeze(g_cost)"
   ]
  },
  {
   "cell_type": "code",
   "execution_count": 46,
   "metadata": {},
   "outputs": [],
   "source": [
    "def loss_hess (w, gamma):\n",
    "    \"\"\"\n",
    "    Hessian matrix of the objective function (loss / cost function).\n",
    "    \n",
    "    Parameters\n",
    "    ----------\n",
    "    w array of weights.\n",
    "    gamma array of intercepts.\n",
    "    \n",
    "    Returns\n",
    "    -------\n",
    "    Matrix of the Hessian of the objective function loss(x) \n",
    "    evaluated at {w, gamma}.\n",
    "    \n",
    "    \"\"\"\n",
    "    return A.T @ A"
   ]
  },
  {
   "cell_type": "code",
   "execution_count": 47,
   "metadata": {},
   "outputs": [],
   "source": [
    "def constraint_g (w, t):\n",
    "    \"\"\"\n",
    "    Inequality constraint g\n",
    "    \n",
    "    Parameters\n",
    "    ----------\n",
    "    w array of weights.\n",
    "    t value, regularization parameter.\n",
    "    \n",
    "    \"\"\"\n",
    "    return np.linalg.norm(w)**2 - t"
   ]
  },
  {
   "cell_type": "code",
   "execution_count": 48,
   "metadata": {},
   "outputs": [
    {
     "data": {
      "text/plain": [
       "(array(7.015), array([27.  , 29.06]), array([[13.02, 13.98],\n",
       "        [13.98, 15.05]]))"
      ]
     },
     "execution_count": 48,
     "metadata": {},
     "output_type": "execute_result"
    }
   ],
   "source": [
    "loss_func(w, gamma), loss_grad(w, gamma), loss_hess(w, gamma)"
   ]
  },
  {
   "cell_type": "code",
   "execution_count": 35,
   "metadata": {},
   "outputs": [
    {
     "data": {
      "text/plain": [
       "-0.9999999999999996"
      ]
     },
     "execution_count": 35,
     "metadata": {},
     "output_type": "execute_result"
    }
   ],
   "source": [
    "constraint_g(w, 3)"
   ]
  },
  {
   "cell_type": "code",
   "execution_count": 38,
   "metadata": {},
   "outputs": [],
   "source": [
    "from scipy.optimize import minimize\n",
    "from scipy.optimize import LinearConstraint\n",
    "from scipy.optimize import Bounds\n",
    "from scipy.optimize import NonlinearConstraint"
   ]
  },
  {
   "cell_type": "code",
   "execution_count": 29,
   "metadata": {},
   "outputs": [
    {
     "data": {
      "text/plain": [
       "5.0"
      ]
     },
     "execution_count": 29,
     "metadata": {},
     "output_type": "execute_result"
    }
   ],
   "source": [
    "nonlinear_constraint = NonlinearConstraint()"
   ]
  },
  {
   "cell_type": "code",
   "execution_count": null,
   "metadata": {},
   "outputs": [],
   "source": [
    "sol = minimize(loss_func)"
   ]
  }
 ],
 "metadata": {
  "kernelspec": {
   "display_name": "Python 3",
   "language": "python",
   "name": "python3"
  },
  "language_info": {
   "codemirror_mode": {
    "name": "ipython",
    "version": 3
   },
   "file_extension": ".py",
   "mimetype": "text/x-python",
   "name": "python",
   "nbconvert_exporter": "python",
   "pygments_lexer": "ipython3",
   "version": "3.7.2"
  }
 },
 "nbformat": 4,
 "nbformat_minor": 2
}
